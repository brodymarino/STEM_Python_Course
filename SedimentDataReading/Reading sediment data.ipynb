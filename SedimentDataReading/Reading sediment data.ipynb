{
 "cells": [
  {
   "cell_type": "code",
   "execution_count": 33,
   "metadata": {},
   "outputs": [],
   "source": [
    "import glob\n",
    "import pandas as pd\n",
    "import os\n",
    "\n",
    "#file_list = glob.glob(\"SedimentData\\*.csv\")"
   ]
  },
  {
   "cell_type": "code",
   "execution_count": 36,
   "metadata": {},
   "outputs": [
    {
     "data": {
      "text/plain": [
       "dict_keys(['A1DJUN', 'A1BJUN', 'A1TJUN', 'A1DJUL', 'A1BJUL', 'A1TJUL', 'A1DAUG', 'A1BAUG', 'A1TAUG', 'A1DSEP', 'A1BSEP', 'A1TSEP', 'A1DOCT', 'A1BOCT', 'A1TOCT', 'A1DNOV', 'A1BNOV', 'A1TNOV', 'A1DDEC', 'A1BDEC', 'A1TDEC', 'A1D15', 'A1B15', 'A1T15', 'A2DJUN', 'A2BJUN', 'A2TJUN', 'A2DJUL', 'A2BJUL', 'A2TJUL', 'A2DAUG', 'A2BAUG', 'A2TAUG', 'A2DSEP', 'A2BSEP', 'A2TSEP', 'A2DOCT', 'A2BOCT', 'A2TOCT', 'A2DNOV', 'A2BNOV', 'A2TNOV', 'A2DDEC', 'A2BDEC', 'A2TDEC', 'A2D15', 'A2B15', 'A2T15', 'A3DJUN', 'A3BJUN', 'A3TJUN', 'A3DJUL', 'A3BJUL', 'A3TJUL', 'A3DAUG', 'A3BAUG', 'A3TAUG', 'A3DSEP', 'A3BSEP', 'A3TSEP', 'A3DOCT', 'A3BOCT', 'A3TOCT', 'A3DNOV', 'A3BNOV', 'A3TNOV', 'A3DDEC', 'A3BDEC', 'A3TDEC', 'A3D15', 'A3B15', 'A3T15', 'A4DJUN', 'A4BJUN', 'A4TJUN', 'A4DJUL', 'A4BJUL', 'A4TJUL', 'A4DAUG', 'A4BAUG', 'A4TAUG', 'A4DSEP', 'A4BSEP', 'A4TSEP', 'A4DOCT', 'A4BOCT', 'A4TOCT', 'A4DNOV', 'A4BNOV', 'A4TNOV', 'A4DDEC', 'A4BDEC', 'A4TDEC', 'A4D15', 'A4B15', 'A4T15', 'A5DJUN', 'A5BJUN', 'A5TJUN', 'A5DJUL', 'A5BJUL', 'A5TJUL', 'A5DAUG', 'A5BAUG', 'A5TAUG', 'A5DSEP', 'A5BSEP', 'A5TSEP', 'A5DOCT', 'A5BOCT', 'A5TOCT', 'A5DNOV', 'A5BNOV', 'A5TNOV', 'A5DDEC', 'A5BDEC', 'A5TDEC', 'A5D15', 'A5B15', 'A5T15', 'P1D15', 'P1B15', 'P1T15', 'P2D15', 'P2B15', 'P2T15', 'P3D15', 'P3B15', 'P3T15', 'P4D15', 'P4B15', 'P4T15', 'P5D15', 'P5B15', 'P5T15', 'P6D15', 'P6B15', 'P6T15', 'P7D15', 'P7B15', 'P7T15', 'P8D15', 'P8B15', 'P8T15', 'P9D15', 'P9B15', 'P9T15', 'P10D15', 'P10B15', 'P10T15', 'P11D15', 'P11B15', 'P11T15'])"
      ]
     },
     "execution_count": 36,
     "metadata": {},
     "output_type": "execute_result"
    }
   ],
   "source": [
    "import os\n",
    "\n",
    "labels = [\"Phi\", \"ItWt\", \"It%\", \"CumWt\", \"Cum%\"]\n",
    "\n",
    "distances = pd.read_csv(\"distances.csv\")\n",
    "#sed_file = pd.read_csv(\"SedimentData\\A2D15.csv\", names = labels, header = None)\n",
    "\n",
    "sed_data={}\n",
    "\n",
    "list1 = [\"JUN\",\"JUL\",\"AUG\",\"SEP\",\"OCT\",\"NOV\",\"DEC\",\"15\"]\n",
    "list2 = [\"D\",\"B\",\"T\"]\n",
    "\n",
    "for i in range(1,6):\n",
    "    for j in range(8):\n",
    "        for k in range(3):\n",
    "            loc=\"A\" + str(i) + list2[k]+ list1[j]\n",
    "            sed_file = pd.read_csv(os.path.join(\"SedimentData\", loc + \".csv\"), names = labels, header = None)\n",
    "            sed_data[loc] = sed_file\n",
    "\n",
    "for i in range(1,12):\n",
    "    for j in range(3):\n",
    "        loc=\"P\" + str(i) + list2[j] + \"15\"\n",
    "        sed_file = pd.read_csv(os.path.join(\"SedimentData\", loc + \".csv\"), names=labels, header = None)\n",
    "        sed_data[loc] = sed_file\n",
    "        \n",
    "sed_data.keys()\n",
    "    "
   ]
  },
  {
   "cell_type": "code",
   "execution_count": null,
   "metadata": {},
   "outputs": [],
   "source": []
  }
 ],
 "metadata": {
  "kernelspec": {
   "display_name": "Python 3",
   "language": "python",
   "name": "python3"
  },
  "language_info": {
   "codemirror_mode": {
    "name": "ipython",
    "version": 3
   },
   "file_extension": ".py",
   "mimetype": "text/x-python",
   "name": "python",
   "nbconvert_exporter": "python",
   "pygments_lexer": "ipython3",
   "version": "3.7.3"
  }
 },
 "nbformat": 4,
 "nbformat_minor": 2
}
